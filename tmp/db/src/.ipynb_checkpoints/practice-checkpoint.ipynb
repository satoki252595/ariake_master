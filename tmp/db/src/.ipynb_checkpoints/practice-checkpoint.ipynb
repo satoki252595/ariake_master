{
 "cells": [
  {
   "cell_type": "code",
   "execution_count": 4,
   "id": "4b4ffbbe-4658-428e-aa1d-37ddcd96e729",
   "metadata": {},
   "outputs": [],
   "source": [
    "import psycopg2\n",
    "\n",
    "def connect():\n",
    "    con = psycopg2.connect(\"host=\" + \"localhost\" +\n",
    "                           \" port=\" + \"5432\" +\n",
    "                           \" dbname=\" + \"postgres\" +\n",
    "                           \" user=\" + \"satoki252595\" +\n",
    "                           \" password=\" + \"postgres\")\n",
    "    return con\n",
    "\n",
    "def select_execute(con, sql):\n",
    "    with con.cursor() as cur:\n",
    "        cur.execute(sql)\n",
    "        rows = cur.fetchall()\n",
    "\n",
    "    return rows"
   ]
  },
  {
   "cell_type": "code",
   "execution_count": 6,
   "id": "f84ab1a6-857f-4e20-aaaf-e7a0038fea9e",
   "metadata": {},
   "outputs": [],
   "source": [
    "import pandas as pd\n",
    "import numpy as np\n",
    "from sklearn.model_selection import train_test_split\n",
    "from sklearn.preprocessing import LabelEncoder\n",
    "from lightgbm import LGBMClassifier\n",
    "from sklearn.metrics import accuracy_score, classification_report"
   ]
  },
  {
   "cell_type": "code",
   "execution_count": 13,
   "id": "051c314b-58e6-4464-bdf3-ece633d79230",
   "metadata": {},
   "outputs": [
    {
     "name": "stderr",
     "output_type": "stream",
     "text": [
      "/var/folders/0b/kvbdjp6d6kl4v5f97xnk5h480000gn/T/ipykernel_83010/3523665317.py:7: UserWarning: pandas only supports SQLAlchemy connectable (engine/connection) or database string URI or sqlite3 DBAPI2 connection. Other DBAPI2 objects are not tested. Please consider using SQLAlchemy.\n",
      "  yahoomap_crawds = pd.read_sql(sql_yahoomap_crawds,conn)\n",
      "/var/folders/0b/kvbdjp6d6kl4v5f97xnk5h480000gn/T/ipykernel_83010/3523665317.py:8: UserWarning: pandas only supports SQLAlchemy connectable (engine/connection) or database string URI or sqlite3 DBAPI2 connection. Other DBAPI2 objects are not tested. Please consider using SQLAlchemy.\n",
      "  event_details = pd.read_sql(sql_event_details,conn)\n"
     ]
    }
   ],
   "source": [
    "# データの読み込み\n",
    "\n",
    "conn = connect()\n",
    "sql_yahoomap_crawds =  \"select * from yahoomap_crawds\"\n",
    "sql_event_details =  \"select * from event_details\"\n",
    "\n",
    "yahoomap_crawds = pd.read_sql(sql_yahoomap_crawds,conn)\n",
    "event_details = pd.read_sql(sql_event_details,conn)"
   ]
  },
  {
   "cell_type": "code",
   "execution_count": 17,
   "id": "daa75db8-83f5-40bb-84f4-23b7165459ef",
   "metadata": {},
   "outputs": [],
   "source": [
    "# データの前処理\n",
    "def preprocess_data(df):\n",
    "    df['date'] = pd.to_datetime(df['date'])\n",
    "    df['day_of_week'] = df['date'].dt.dayofweek\n",
    "    df['month'] = df['date'].dt.month\n",
    "    return df\n",
    "\n",
    "yahoomap_crawds = preprocess_data(yahoomap_crawds)\n",
    "event_details = preprocess_data(event_details)"
   ]
  },
  {
   "cell_type": "code",
   "execution_count": 18,
   "id": "31331e90-71e9-45bd-93c6-ecc263060316",
   "metadata": {},
   "outputs": [],
   "source": [
    "# データの結合\n",
    "merged_data = pd.merge(yahoomap_crawds, event_details, on=['place', 'date'], how='left')\n",
    "\n",
    "# 特徴量エンジニアリング\n",
    "merged_data['price_diff'] = merged_data['max_price'] - merged_data['min_price']\n",
    "merged_data['is_free'] = (merged_data['max_price'] == 0) & (merged_data['min_price'] == 0)\n"
   ]
  },
  {
   "cell_type": "code",
   "execution_count": 20,
   "id": "3df0de31-3688-4fb4-8c80-6f9fb9d18698",
   "metadata": {},
   "outputs": [],
   "source": [
    "# カテゴリカル変数のエンコーディング\n",
    "le = LabelEncoder()\n",
    "merged_data['place'] = le.fit_transform(merged_data['place'])\n",
    "merged_data['name'] = le.fit_transform(merged_data['name'])"
   ]
  },
  {
   "cell_type": "code",
   "execution_count": 21,
   "id": "e2596cda-06fc-46bd-88a9-9d469f242164",
   "metadata": {},
   "outputs": [
    {
     "ename": "KeyError",
     "evalue": "\"['day_of_week', 'month'] not in index\"",
     "output_type": "error",
     "traceback": [
      "\u001b[0;31m---------------------------------------------------------------------------\u001b[0m",
      "\u001b[0;31mKeyError\u001b[0m                                  Traceback (most recent call last)",
      "Cell \u001b[0;32mIn[21], line 3\u001b[0m\n\u001b[1;32m      1\u001b[0m \u001b[38;5;66;03m# 特徴量と目的変数の準備\u001b[39;00m\n\u001b[1;32m      2\u001b[0m features \u001b[38;5;241m=\u001b[39m [\u001b[38;5;124m'\u001b[39m\u001b[38;5;124mplace\u001b[39m\u001b[38;5;124m'\u001b[39m, \u001b[38;5;124m'\u001b[39m\u001b[38;5;124mhour\u001b[39m\u001b[38;5;124m'\u001b[39m, \u001b[38;5;124m'\u001b[39m\u001b[38;5;124mday_of_week\u001b[39m\u001b[38;5;124m'\u001b[39m, \u001b[38;5;124m'\u001b[39m\u001b[38;5;124mmonth\u001b[39m\u001b[38;5;124m'\u001b[39m, \u001b[38;5;124m'\u001b[39m\u001b[38;5;124mmax_price\u001b[39m\u001b[38;5;124m'\u001b[39m, \u001b[38;5;124m'\u001b[39m\u001b[38;5;124mmin_price\u001b[39m\u001b[38;5;124m'\u001b[39m, \u001b[38;5;124m'\u001b[39m\u001b[38;5;124mprice_diff\u001b[39m\u001b[38;5;124m'\u001b[39m, \u001b[38;5;124m'\u001b[39m\u001b[38;5;124mis_free\u001b[39m\u001b[38;5;124m'\u001b[39m, \u001b[38;5;124m'\u001b[39m\u001b[38;5;124mname\u001b[39m\u001b[38;5;124m'\u001b[39m]\n\u001b[0;32m----> 3\u001b[0m X \u001b[38;5;241m=\u001b[39m \u001b[43mmerged_data\u001b[49m\u001b[43m[\u001b[49m\u001b[43mfeatures\u001b[49m\u001b[43m]\u001b[49m\n\u001b[1;32m      4\u001b[0m y \u001b[38;5;241m=\u001b[39m merged_data[\u001b[38;5;124m'\u001b[39m\u001b[38;5;124mcrawds_level\u001b[39m\u001b[38;5;124m'\u001b[39m]\n",
      "File \u001b[0;32m~/.pyenv/versions/3.11.7/lib/python3.11/site-packages/pandas/core/frame.py:4096\u001b[0m, in \u001b[0;36mDataFrame.__getitem__\u001b[0;34m(self, key)\u001b[0m\n\u001b[1;32m   4094\u001b[0m     \u001b[38;5;28;01mif\u001b[39;00m is_iterator(key):\n\u001b[1;32m   4095\u001b[0m         key \u001b[38;5;241m=\u001b[39m \u001b[38;5;28mlist\u001b[39m(key)\n\u001b[0;32m-> 4096\u001b[0m     indexer \u001b[38;5;241m=\u001b[39m \u001b[38;5;28;43mself\u001b[39;49m\u001b[38;5;241;43m.\u001b[39;49m\u001b[43mcolumns\u001b[49m\u001b[38;5;241;43m.\u001b[39;49m\u001b[43m_get_indexer_strict\u001b[49m\u001b[43m(\u001b[49m\u001b[43mkey\u001b[49m\u001b[43m,\u001b[49m\u001b[43m \u001b[49m\u001b[38;5;124;43m\"\u001b[39;49m\u001b[38;5;124;43mcolumns\u001b[39;49m\u001b[38;5;124;43m\"\u001b[39;49m\u001b[43m)\u001b[49m[\u001b[38;5;241m1\u001b[39m]\n\u001b[1;32m   4098\u001b[0m \u001b[38;5;66;03m# take() does not accept boolean indexers\u001b[39;00m\n\u001b[1;32m   4099\u001b[0m \u001b[38;5;28;01mif\u001b[39;00m \u001b[38;5;28mgetattr\u001b[39m(indexer, \u001b[38;5;124m\"\u001b[39m\u001b[38;5;124mdtype\u001b[39m\u001b[38;5;124m\"\u001b[39m, \u001b[38;5;28;01mNone\u001b[39;00m) \u001b[38;5;241m==\u001b[39m \u001b[38;5;28mbool\u001b[39m:\n",
      "File \u001b[0;32m~/.pyenv/versions/3.11.7/lib/python3.11/site-packages/pandas/core/indexes/base.py:6200\u001b[0m, in \u001b[0;36mIndex._get_indexer_strict\u001b[0;34m(self, key, axis_name)\u001b[0m\n\u001b[1;32m   6197\u001b[0m \u001b[38;5;28;01melse\u001b[39;00m:\n\u001b[1;32m   6198\u001b[0m     keyarr, indexer, new_indexer \u001b[38;5;241m=\u001b[39m \u001b[38;5;28mself\u001b[39m\u001b[38;5;241m.\u001b[39m_reindex_non_unique(keyarr)\n\u001b[0;32m-> 6200\u001b[0m \u001b[38;5;28;43mself\u001b[39;49m\u001b[38;5;241;43m.\u001b[39;49m\u001b[43m_raise_if_missing\u001b[49m\u001b[43m(\u001b[49m\u001b[43mkeyarr\u001b[49m\u001b[43m,\u001b[49m\u001b[43m \u001b[49m\u001b[43mindexer\u001b[49m\u001b[43m,\u001b[49m\u001b[43m \u001b[49m\u001b[43maxis_name\u001b[49m\u001b[43m)\u001b[49m\n\u001b[1;32m   6202\u001b[0m keyarr \u001b[38;5;241m=\u001b[39m \u001b[38;5;28mself\u001b[39m\u001b[38;5;241m.\u001b[39mtake(indexer)\n\u001b[1;32m   6203\u001b[0m \u001b[38;5;28;01mif\u001b[39;00m \u001b[38;5;28misinstance\u001b[39m(key, Index):\n\u001b[1;32m   6204\u001b[0m     \u001b[38;5;66;03m# GH 42790 - Preserve name from an Index\u001b[39;00m\n",
      "File \u001b[0;32m~/.pyenv/versions/3.11.7/lib/python3.11/site-packages/pandas/core/indexes/base.py:6252\u001b[0m, in \u001b[0;36mIndex._raise_if_missing\u001b[0;34m(self, key, indexer, axis_name)\u001b[0m\n\u001b[1;32m   6249\u001b[0m     \u001b[38;5;28;01mraise\u001b[39;00m \u001b[38;5;167;01mKeyError\u001b[39;00m(\u001b[38;5;124mf\u001b[39m\u001b[38;5;124m\"\u001b[39m\u001b[38;5;124mNone of [\u001b[39m\u001b[38;5;132;01m{\u001b[39;00mkey\u001b[38;5;132;01m}\u001b[39;00m\u001b[38;5;124m] are in the [\u001b[39m\u001b[38;5;132;01m{\u001b[39;00maxis_name\u001b[38;5;132;01m}\u001b[39;00m\u001b[38;5;124m]\u001b[39m\u001b[38;5;124m\"\u001b[39m)\n\u001b[1;32m   6251\u001b[0m not_found \u001b[38;5;241m=\u001b[39m \u001b[38;5;28mlist\u001b[39m(ensure_index(key)[missing_mask\u001b[38;5;241m.\u001b[39mnonzero()[\u001b[38;5;241m0\u001b[39m]]\u001b[38;5;241m.\u001b[39munique())\n\u001b[0;32m-> 6252\u001b[0m \u001b[38;5;28;01mraise\u001b[39;00m \u001b[38;5;167;01mKeyError\u001b[39;00m(\u001b[38;5;124mf\u001b[39m\u001b[38;5;124m\"\u001b[39m\u001b[38;5;132;01m{\u001b[39;00mnot_found\u001b[38;5;132;01m}\u001b[39;00m\u001b[38;5;124m not in index\u001b[39m\u001b[38;5;124m\"\u001b[39m)\n",
      "\u001b[0;31mKeyError\u001b[0m: \"['day_of_week', 'month'] not in index\""
     ]
    }
   ],
   "source": [
    "# 特徴量と目的変数の準備\n",
    "features = ['place', 'hour', 'day_of_week', 'month', 'max_price', 'min_price', 'price_diff', 'is_free', 'name']\n",
    "X = merged_data[features]\n",
    "y = merged_data['crawds_level']"
   ]
  },
  {
   "cell_type": "code",
   "execution_count": 22,
   "id": "2c0a68a2-0804-4c9a-87e7-6046df1c38b9",
   "metadata": {},
   "outputs": [
    {
     "name": "stdout",
     "output_type": "stream",
     "text": [
      "Index(['get_time', 'place', 'date', 'weekday', 'hour', 'crawds_level',\n",
      "       'crawds_level_text', 'current_crawds', 'datetime', 'day_of_week_x',\n",
      "       'month_x', 'id', 'name', 'sub_title', 'actor', 'open_time',\n",
      "       'start_time', 'close_time', 'time_original', 'max_price', 'min_price',\n",
      "       'price_text', 'link', 'inquiry', 'detail', 'num_of_people',\n",
      "       'input_table', 'input_table_rec_id', 'open_datetime', 'day_of_week_y',\n",
      "       'month_y', 'price_diff', 'is_free'],\n",
      "      dtype='object')\n"
     ]
    }
   ],
   "source": [
    "print(merged_data.columns)"
   ]
  },
  {
   "cell_type": "code",
   "execution_count": 24,
   "id": "162f0558-7f4b-4d39-bd9a-03b06c3025d3",
   "metadata": {},
   "outputs": [
    {
     "name": "stdout",
     "output_type": "stream",
     "text": [
      "Index(['get_time', 'place', 'date', 'weekday', 'hour', 'crawds_level',\n",
      "       'crawds_level_text', 'current_crawds', 'datetime', 'day_of_week_x',\n",
      "       'month_x', 'id', 'name', 'sub_title', 'actor', 'open_time',\n",
      "       'start_time', 'close_time', 'time_original', 'max_price', 'min_price',\n",
      "       'price_text', 'link', 'inquiry', 'detail', 'num_of_people',\n",
      "       'input_table', 'input_table_rec_id', 'open_datetime', 'day_of_week_y',\n",
      "       'month_y', 'price_diff', 'is_free'],\n",
      "      dtype='object')\n"
     ]
    }
   ],
   "source": [
    "print(merged_data.columns)"
   ]
  },
  {
   "cell_type": "code",
   "execution_count": null,
   "id": "6ab998c7-aafd-4f1a-9e6d-99e7d2fe64ee",
   "metadata": {},
   "outputs": [],
   "source": []
  }
 ],
 "metadata": {
  "kernelspec": {
   "display_name": "Python 3 (ipykernel)",
   "language": "python",
   "name": "python3"
  },
  "language_info": {
   "codemirror_mode": {
    "name": "ipython",
    "version": 3
   },
   "file_extension": ".py",
   "mimetype": "text/x-python",
   "name": "python",
   "nbconvert_exporter": "python",
   "pygments_lexer": "ipython3",
   "version": "3.11.7"
  }
 },
 "nbformat": 4,
 "nbformat_minor": 5
}
